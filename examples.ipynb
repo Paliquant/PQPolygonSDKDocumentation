{
 "cells": [
  {
   "cell_type": "markdown",
   "id": "db28bbda",
   "metadata": {},
   "source": [
    "# Examples"
   ]
  }
 ],
 "metadata": {
  "kernelspec": {
   "display_name": "Julia 1.7.2",
   "language": "julia",
   "name": "julia-1.7"
  },
  "language_info": {
   "file_extension": ".jl",
   "mimetype": "application/julia",
   "name": "julia",
   "version": "1.7.2"
  }
 },
 "nbformat": 4,
 "nbformat_minor": 5
}
